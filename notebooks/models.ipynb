{
 "cells": [
  {
   "cell_type": "markdown",
   "metadata": {},
   "source": [
    "# `models`"
   ]
  },
  {
   "cell_type": "code",
   "execution_count": null,
   "metadata": {
    "vscode": {
     "languageId": "plaintext"
    }
   },
   "outputs": [],
   "source": [
    "pip show FastKmedoids"
   ]
  },
  {
   "cell_type": "code",
   "execution_count": null,
   "metadata": {
    "vscode": {
     "languageId": "plaintext"
    }
   },
   "outputs": [],
   "source": [
    "import polars as pl\n",
    "import pandas as pd\n",
    "import numpy as np"
   ]
  },
  {
   "cell_type": "markdown",
   "metadata": {},
   "source": [
    "## Data"
   ]
  },
  {
   "cell_type": "code",
   "execution_count": null,
   "metadata": {
    "vscode": {
     "languageId": "plaintext"
    }
   },
   "outputs": [],
   "source": [
    "data_url = \"https://raw.githubusercontent.com/FabioScielzoOrtiz/FastKmedoids-demo/refs/heads/main/data/madrid_houses_processed.csv\""
   ]
  },
  {
   "cell_type": "code",
   "execution_count": null,
   "metadata": {
    "vscode": {
     "languageId": "plaintext"
    }
   },
   "outputs": [],
   "source": [
    "quant_cols = ['sq_mt_built', 'n_rooms', 'n_bathrooms', 'n_floors', 'buy_price']\n",
    "binary_cols = ['is_renewal_needed', 'has_lift', 'is_exterior', 'has_parking']\n",
    "multiclass_cols = ['energy_certificate', 'house_type']\n",
    "\n",
    "p1 = len(quant_cols)\n",
    "p2 = len(binary_cols)\n",
    "p3 = len(multiclass_cols)"
   ]
  },
  {
   "cell_type": "code",
   "execution_count": null,
   "metadata": {
    "vscode": {
     "languageId": "plaintext"
    }
   },
   "outputs": [],
   "source": [
    "data_pl = pl.read_csv(data_url)\n",
    "data_pd = pd.read_csv(data_url)\n",
    "data_np = np.array(data_pd)"
   ]
  },
  {
   "cell_type": "markdown",
   "metadata": {},
   "source": [
    "## `FastKmedoidsGGower`"
   ]
  },
  {
   "cell_type": "code",
   "execution_count": null,
   "metadata": {
    "vscode": {
     "languageId": "plaintext"
    }
   },
   "outputs": [],
   "source": [
    "fast_kmedoids = FastKmedoidsGG(n_clusters=3, method='pam', init='heuristic', max_iter=100, random_state=123,\n",
    "                                frac_sample_size=0.01, p1=5, p2=4, p3=2, \n",
    "                                d1='robust_mahalanobis', d2='jaccard', d3='matching', \n",
    "                                robust_maha_method='trimmed', alpha=0.05, epsilon=0.05, n_iters=20)\n",
    "fast_kmedoids.fit(X=madrid_houses_df) "
   ]
  },
  {
   "cell_type": "markdown",
   "metadata": {},
   "source": [
    "## `FoldFastKmedoidsGGower`"
   ]
  },
  {
   "cell_type": "code",
   "execution_count": null,
   "metadata": {
    "vscode": {
     "languageId": "plaintext"
    }
   },
   "outputs": [],
   "source": [
    "kfold_fast_kmedoids = KFoldFastKmedoidsGG(n_clusters=3, method='pam', init='heuristic', max_iter=100, random_state=123,\n",
    "                                          frac_sample_size=0.1, n_splits=10, shuffle=True, kfold_random_state=123,\n",
    "                                          p1=5, p2=4, p3=2, d1='robust_mahalanobis', d2='jaccard', d3='matching', \n",
    "                                          robust_maha_method='trimmed', alpha=0.05, epsilon=0.05, n_iters=20,\n",
    "                                          fast_VG=False, VG_sample_size=1000, VG_n_samples=5)\n",
    "kfold_fast_kmedoids.fit(X=madrid_houses_df) "
   ]
  }
 ],
 "metadata": {
  "language_info": {
   "name": "python"
  }
 },
 "nbformat": 4,
 "nbformat_minor": 2
}
