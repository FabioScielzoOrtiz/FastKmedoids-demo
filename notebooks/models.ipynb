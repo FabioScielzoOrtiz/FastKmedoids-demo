{
 "cells": [
  {
   "cell_type": "markdown",
   "metadata": {},
   "source": [
    "# `models`"
   ]
  },
  {
   "cell_type": "code",
   "execution_count": 1,
   "metadata": {},
   "outputs": [
    {
     "name": "stdout",
     "output_type": "stream",
     "text": [
      "Name: FastKmedoids\n",
      "Version: 0.0.36\n",
      "Summary: FastKmedoids is a Python package to apply the clustering algorithms Fast Kmedoids and KFold Fast Kmedoids.\n",
      "Home-page: https://github.com/FabioScielzoOrtiz/FastKmedoids-package\n",
      "Author: Fabio Scielzo Ortiz\n",
      "Author-email: fabioscielzo98@gmail.com\n",
      "License: \n",
      "Location: c:\\Users\\fscielzo\\Documents\\Proyectos\\FastKmedoids\\FastKmedoids-demo\\.venv\\Lib\\site-packages\n",
      "Requires: numpy, polars\n",
      "Required-by: \n",
      "Note: you may need to restart the kernel to use updated packages.\n"
     ]
    }
   ],
   "source": [
    "pip show FastKmedoids"
   ]
  },
  {
   "cell_type": "code",
   "execution_count": 2,
   "metadata": {},
   "outputs": [],
   "source": [
    "import polars as pl\n",
    "import pandas as pd\n",
    "import numpy as np"
   ]
  },
  {
   "cell_type": "markdown",
   "metadata": {},
   "source": [
    "## Data"
   ]
  },
  {
   "cell_type": "code",
   "execution_count": 3,
   "metadata": {},
   "outputs": [],
   "source": [
    "data_url = \"https://raw.githubusercontent.com/FabioScielzoOrtiz/FastKmedoids-demo/refs/heads/main/data/madrid_houses_processed.csv\""
   ]
  },
  {
   "cell_type": "code",
   "execution_count": 4,
   "metadata": {},
   "outputs": [],
   "source": [
    "quant_cols = ['sq_mt_built', 'n_rooms', 'n_bathrooms', 'n_floors', 'buy_price']\n",
    "binary_cols = ['is_renewal_needed', 'has_lift', 'is_exterior', 'has_parking']\n",
    "multiclass_cols = ['energy_certificate', 'house_type']\n",
    "\n",
    "p1 = len(quant_cols)\n",
    "p2 = len(binary_cols)\n",
    "p3 = len(multiclass_cols)"
   ]
  },
  {
   "cell_type": "code",
   "execution_count": 5,
   "metadata": {},
   "outputs": [],
   "source": [
    "data_pl = pl.read_csv(data_url)\n",
    "data_pd = pd.read_csv(data_url)\n",
    "data_np = np.array(data_pd)"
   ]
  },
  {
   "cell_type": "markdown",
   "metadata": {},
   "source": [
    "## `FastKmedoidsGGower`"
   ]
  },
  {
   "cell_type": "code",
   "execution_count": 6,
   "metadata": {},
   "outputs": [],
   "source": [
    "from FastKmedoids.models import FastKmedoidsGGower"
   ]
  },
  {
   "cell_type": "code",
   "execution_count": 7,
   "metadata": {},
   "outputs": [],
   "source": [
    "fast_kmedoids = FastKmedoidsGGower(n_clusters=3, method='pam', init='heuristic', max_iter=100, random_state=123,\n",
    "                                   frac_sample_size=0.01, p1=5, p2=4, p3=2, \n",
    "                                   d1='robust_mahalanobis', d2='jaccard', d3='hamming', \n",
    "                                   robust_method='trimmed', alpha=0.05, epsilon=0.05, n_iters=20)\n",
    "fast_kmedoids.fit(X=data_pd) "
   ]
  },
  {
   "cell_type": "code",
   "execution_count": 8,
   "metadata": {},
   "outputs": [
    {
     "data": {
      "text/plain": [
       "array([2, 1, 1, ..., 0, 0, 0], dtype=int64)"
      ]
     },
     "execution_count": 8,
     "metadata": {},
     "output_type": "execute_result"
    }
   ],
   "source": [
    "fast_kmedoids.labels"
   ]
  },
  {
   "cell_type": "code",
   "execution_count": null,
   "metadata": {},
   "outputs": [],
   "source": [
    "fast_kmedoids = FastKmedoidsGGower(n_clusters=3, method='pam', init='heuristic', max_iter=100, random_state=123,\n",
    "                                   frac_sample_size=0.01, p1=5, p2=4, p3=2, \n",
    "                                   d1='euclidean', d2='sokal', d3='hamming', \n",
    "                                   robust_method='trimmed', alpha=0.05, epsilon=0.05, n_iters=20)\n",
    "fast_kmedoids.fit(X=data_pd) "
   ]
  },
  {
   "cell_type": "code",
   "execution_count": null,
   "metadata": {},
   "outputs": [],
   "source": [
    "fast_kmedoids.labels"
   ]
  },
  {
   "cell_type": "code",
   "execution_count": null,
   "metadata": {},
   "outputs": [],
   "source": [
    "fast_kmedoids = FastKmedoidsGGower(n_clusters=3, method='pam', init='heuristic', max_iter=100, random_state=123,\n",
    "                                   frac_sample_size=0.01, p1=5, p2=4, p3=2, \n",
    "                                   d1='canberra', d2='sokal', d3='hamming', \n",
    "                                   robust_method='trimmed', alpha=0.05, epsilon=0.05, n_iters=20)\n",
    "fast_kmedoids.fit(X=data_pd) "
   ]
  },
  {
   "cell_type": "markdown",
   "metadata": {},
   "source": [
    "## `FoldFastKmedoidsGGower`"
   ]
  },
  {
   "cell_type": "code",
   "execution_count": 9,
   "metadata": {},
   "outputs": [],
   "source": [
    "from FastKmedoids.models import FoldFastKmedoidsGGower"
   ]
  },
  {
   "cell_type": "code",
   "execution_count": 11,
   "metadata": {},
   "outputs": [
    {
     "name": "stderr",
     "output_type": "stream",
     "text": [
      "Clustering Folds: 100%|██████████| 10/10 [00:11<00:00,  1.13s/it]\n"
     ]
    }
   ],
   "source": [
    "kfold_fast_kmedoids = FoldFastKmedoidsGGower(n_clusters=3, method='pam', init='heuristic', max_iter=100, random_state=123,\n",
    "                                             frac_sample_size=0.1, n_splits=10, shuffle=True, kfold_random_state=123,\n",
    "                                             p1=5, p2=4, p3=2, d1='robust_mahalanobis', d2='jaccard', d3='hamming', \n",
    "                                             robust_method='trimmed', alpha=0.05, epsilon=0.05, n_iters=20,\n",
    "                                             fast_VG=False, VG_sample_size=1000, VG_n_samples=5)\n",
    "kfold_fast_kmedoids.fit(X=data_pd) "
   ]
  },
  {
   "cell_type": "code",
   "execution_count": 12,
   "metadata": {},
   "outputs": [
    {
     "data": {
      "text/plain": [
       "array([0, 1, 1, ..., 1, 1, 1])"
      ]
     },
     "execution_count": 12,
     "metadata": {},
     "output_type": "execute_result"
    }
   ],
   "source": [
    "kfold_fast_kmedoids.labels"
   ]
  },
  {
   "cell_type": "code",
   "execution_count": null,
   "metadata": {},
   "outputs": [],
   "source": [
    "kfold_fast_kmedoids = FoldFastKmedoidsGGower(n_clusters=3, method='pam', init='heuristic', max_iter=100, random_state=123,\n",
    "                                             frac_sample_size=0.1, n_splits=10, shuffle=True, kfold_random_state=123,\n",
    "                                             p1=5, p2=4, p3=2, d1='euclidean', d2='sokal', d3='hamming', \n",
    "                                             robust_method='trimmed', alpha=0.05, epsilon=0.05, n_iters=20,\n",
    "                                             fast_VG=False, VG_sample_size=1000, VG_n_samples=5)\n",
    "kfold_fast_kmedoids.fit(X=data_pd) "
   ]
  },
  {
   "cell_type": "code",
   "execution_count": null,
   "metadata": {},
   "outputs": [],
   "source": [
    "kfold_fast_kmedoids = FoldFastKmedoidsGGower(n_clusters=3, method='pam', init='heuristic', max_iter=100, random_state=123,\n",
    "                                             frac_sample_size=0.1, n_splits=10, shuffle=True, kfold_random_state=123,\n",
    "                                             p1=5, p2=4, p3=2, d1='canberra', d2='sokal', d3='hamming', \n",
    "                                             robust_method='trimmed', alpha=0.05, epsilon=0.05, n_iters=20,\n",
    "                                             fast_VG=False, VG_sample_size=1000, VG_n_samples=5)\n",
    "kfold_fast_kmedoids.fit(X=data_pd) "
   ]
  }
 ],
 "metadata": {
  "kernelspec": {
   "display_name": ".venv",
   "language": "python",
   "name": "python3"
  },
  "language_info": {
   "codemirror_mode": {
    "name": "ipython",
    "version": 3
   },
   "file_extension": ".py",
   "mimetype": "text/x-python",
   "name": "python",
   "nbconvert_exporter": "python",
   "pygments_lexer": "ipython3",
   "version": "3.12.0"
  }
 },
 "nbformat": 4,
 "nbformat_minor": 2
}
